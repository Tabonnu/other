{
  "nbformat": 4,
  "nbformat_minor": 0,
  "metadata": {
    "colab": {
      "name": "math_chapter2.ipynb",
      "provenance": [],
      "toc_visible": true,
      "authorship_tag": "ABX9TyNba5I9Z5Fn2exHjHrjY7BT",
      "include_colab_link": true
    },
    "kernelspec": {
      "name": "python3",
      "display_name": "Python 3"
    },
    "language_info": {
      "name": "python"
    }
  },
  "cells": [
    {
      "cell_type": "markdown",
      "metadata": {
        "id": "view-in-github",
        "colab_type": "text"
      },
      "source": [
        "<a href=\"https://colab.research.google.com/github/Tabonnu/other/blob/main/math/%E8%87%AA%E4%BD%9C/math_chapter2.ipynb\" target=\"_parent\"><img src=\"https://colab.research.google.com/assets/colab-badge.svg\" alt=\"Open In Colab\"/></a>"
      ]
    },
    {
      "cell_type": "markdown",
      "source": [
        "##便利関数"
      ],
      "metadata": {
        "id": "5ek8v9kUzOS9"
      }
    },
    {
      "cell_type": "code",
      "execution_count": 1,
      "metadata": {
        "id": "AEfRkZ0fxdRy"
      },
      "outputs": [],
      "source": [
        "import numpy as np\n",
        "import matplotlib.pyplot as plt"
      ]
    },
    {
      "cell_type": "code",
      "source": [
        "n = np.linspace(-100,100,10)\n",
        "plt.plot(n,marker='o',linestyle='None')"
      ],
      "metadata": {
        "colab": {
          "base_uri": "https://localhost:8080/",
          "height": 283
        },
        "id": "K7FBzSaxzS3p",
        "outputId": "601850c5-fa20-4cad-a5f9-f0425bf040e3"
      },
      "execution_count": 9,
      "outputs": [
        {
          "output_type": "execute_result",
          "data": {
            "text/plain": [
              "[<matplotlib.lines.Line2D at 0x7fe56df11350>]"
            ]
          },
          "metadata": {},
          "execution_count": 9
        },
        {
          "output_type": "display_data",
          "data": {
            "text/plain": [
              "<Figure size 432x288 with 1 Axes>"
            ],
            "image/png": "[encoded data removed]"
          },
          "metadata": {
            "needs_background": "light"
          }
        }
      ]
    },
    {
      "cell_type": "markdown",
      "source": [
        "#積分"
      ],
      "metadata": {
        "id": "CtsGdMeJ_gv9"
      }
    },
    {
      "cell_type": "markdown",
      "source": [
        "積分をする際のやり方は主に2通りある。  \n",
        "1.リーマン積分を使って独自に記述  \n",
        "2.scipyを使って素早く記述(おすすめ)"
      ],
      "metadata": {
        "id": "y9Fo1IH__kqA"
      }
    }
  ]
}